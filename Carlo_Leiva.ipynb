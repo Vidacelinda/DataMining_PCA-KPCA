{
  "nbformat": 4,
  "nbformat_minor": 0,
  "metadata": {
    "colab": {
      "provenance": [],
      "authorship_tag": "ABX9TyPlROp950rDLkuk8luLsL7Z",
      "include_colab_link": true
    },
    "kernelspec": {
      "name": "python3",
      "display_name": "Python 3"
    },
    "language_info": {
      "name": "python"
    }
  },
  "cells": [
    {
      "cell_type": "markdown",
      "metadata": {
        "id": "view-in-github",
        "colab_type": "text"
      },
      "source": [
        "<a href=\"https://colab.research.google.com/github/Vidacelinda/DataMining_PCA-KPCA/blob/main/Carlo_Leiva.ipynb\" target=\"_parent\"><img src=\"https://colab.research.google.com/assets/colab-badge.svg\" alt=\"Open In Colab\"/></a>"
      ]
    },
    {
      "cell_type": "markdown",
      "source": [
        "#Library needed\n",
        "Part 1.1"
      ],
      "metadata": {
        "id": "3pfXiyugcJVS"
      }
    },
    {
      "cell_type": "code",
      "execution_count": 2,
      "metadata": {
        "id": "adIkJ9pMIsp2"
      },
      "outputs": [],
      "source": [
        "import numpy as np\n",
        "import pandas as pd\n",
        "import matplotlib.pyplot as plt\n",
        "from sklearn.decomposition import PCA\n",
        "# from sklearn.decomposition import KernalPCA"
      ]
    },
    {
      "cell_type": "markdown",
      "source": [
        "#PCA\n",
        "Part 1.1"
      ],
      "metadata": {
        "id": "Xwj4ClmsJkzq"
      }
    },
    {
      "cell_type": "code",
      "source": [
        "#pca function\n",
        "# from numpy import einsum\n",
        "def my_pca(Data,k):\n",
        "  #calculate mean of the input along each col(featuere)\n",
        "  mean1=np.mean(Data,axis=0)\n",
        "\n",
        "  #center data\n",
        "  D1=Data-mean1\n",
        "\n",
        "  #covaraince matrix of centered data\n",
        "  cov=np.cov(D1,rowvar=False)\n",
        "\n",
        "  #eigenvalues and eigenvectors of covaraince matrix\n",
        "  eigenvalues,eigenvectors=np.linalg.eig(cov)\n",
        "\n",
        "  #sort eigenvalues in descending order and rearrange those eigenvectors\n",
        "  idx=np.argsort(eigenvalues)[::-1]\n",
        "  eigenvalues=eigenvalues[idx]\n",
        "  eigenvectors=eigenvectors[:,idx]\n",
        "\n",
        "  #select top eigenvectors and reduce the dimensionalty\n",
        "  reduced_eigenvectors=eigenvectors[:,:k]\n",
        "\n",
        "  #project the centered data to the reduced eignvectors\n",
        "  projecteddata=np.dot(D1,reduced_eigenvectors)\n",
        "\n",
        "  return projecteddata,reduced_eigenvectors,mean1"
      ],
      "metadata": {
        "id": "SFY_JqfrJmpR"
      },
      "execution_count": 6,
      "outputs": []
    },
    {
      "cell_type": "markdown",
      "source": [
        "#Clasification\n",
        "Part 1.1"
      ],
      "metadata": {
        "id": "V6Km_ydEKBYR"
      }
    },
    {
      "cell_type": "code",
      "source": [
        "#calculate the distance between two points\n",
        "def dis(x1,x2):\n",
        "  return np.linalg.norm(x1-x2)\n",
        "\n",
        "#classification\n",
        "def myclassifier(Train,Trainlabel,Test):\n",
        "  pred=[]\n",
        "  for testpoint in Test:\n",
        "    pred_dis=[]\n",
        "    for trainpoint in Train:\n",
        "      pred_dis.append(dis(testpoint,trainpoint))\n",
        "    pred.append(Trainlabel[np.argmin(pred_dis)])\n",
        "  return np.array(pred)"
      ],
      "metadata": {
        "id": "iisQwhj5J9fI"
      },
      "execution_count": 9,
      "outputs": []
    },
    {
      "cell_type": "markdown",
      "source": [
        "#Calculate accuracy\n",
        "Part 1.1"
      ],
      "metadata": {
        "id": "XJrk7_AwJrgw"
      }
    },
    {
      "cell_type": "code",
      "source": [
        "def calculate_accuracy(true_labels,predicted_labels):\n",
        "  if len(true_labels)!=len(predicted_labels):\n",
        "    raise ValueError(\"Length of true_label must be the same.\")\n",
        "  #count the number of correct predictions\n",
        "  correct_predictions=sum(1 for true, predicted in zip(true_labels,predicted_labels)if true == predicted)\n",
        "  #calculate accuracy as the ratio of correct predictions to total predictions\n",
        "  accuracy=correct_predictions / len(true_labels)\n",
        "  return accuracy"
      ],
      "metadata": {
        "id": "aPp1qhSfJucW"
      },
      "execution_count": 10,
      "outputs": []
    },
    {
      "cell_type": "markdown",
      "source": [
        "#Read Files\n",
        "Part 1.1 (Results)"
      ],
      "metadata": {
        "id": "K2FJ0JwSJySi"
      }
    },
    {
      "cell_type": "code",
      "source": [
        "#read data\n",
        "Traindata=pd.read_csv('TrainData.csv')\n",
        "TestData=pd.read_csv('TestData.csv')\n",
        "\n",
        "Trainlabel=Traindata.iloc[:,-1]#out of all select last col\n",
        "Testlabel=TestData.iloc[:,-1]\n",
        "\n",
        "label1=Trainlabel.to_numpy()# classifier\n",
        "label2=Testlabel.to_numpy()#added accuracy\n",
        "\n",
        "Trainx=Traindata.iloc[::-1]#select all and start from back to front col\n",
        "Testx=TestData.iloc[::-1]\n",
        "\n",
        "Train=Trainx.to_numpy()\n",
        "Test=Testx.to_numpy()\n",
        "\n",
        "# label1=Trainlabel.to_numpy()\n",
        "# label2=Testlabel.to_numpy()\n",
        "\n",
        "# print(Train)\n",
        "#*** STOP AND CHECK\n",
        "#apply pca to train data\n",
        "k = 110\n",
        "project_train,reduced_eigenvectors,mean1=my_pca(Train,k) #CHECK AND DOWN ASWELL\n",
        "#apply my_pca for\n",
        "Test_centered=Test-mean1\n",
        "projected_test=np.dot(Test_centered,reduced_eigenvectors)#\n",
        "#apply classifier on my_pca\n",
        "predict_label=myclassifier(project_train,label1,projected_test)\n",
        "accuracy=calculate_accuracy(label2,predict_label)\n",
        "\n",
        "percnetage_accuracy=accuracy*100\n",
        "print(f\"my PCA accuracy percentage {percnetage_accuracy:.2f} %\")"
      ],
      "metadata": {
        "colab": {
          "base_uri": "https://localhost:8080/"
        },
        "id": "agkezAIRJxUy",
        "outputId": "b9dec377-f62f-4494-de09-25c9d9be370f"
      },
      "execution_count": 13,
      "outputs": [
        {
          "output_type": "stream",
          "name": "stdout",
          "text": [
            "my PCA accuracy percentage 88.50 %\n"
          ]
        }
      ]
    },
    {
      "cell_type": "markdown",
      "source": [
        "#Sklearn PCA\n",
        "Part 1.2 (Results)"
      ],
      "metadata": {
        "id": "Pto5kj0yVhXg"
      }
    },
    {
      "cell_type": "code",
      "source": [
        "\n",
        "from sklearn.model_selection import train_test_split\n",
        "from sklearn.decomposition import PCA\n",
        "from sklearn.linear_model import LogisticRegression\n",
        "from sklearn.metrics import accuracy_score\n",
        "\n",
        "# Read the data\n",
        "Traindata = pd.read_csv('TrainData.csv')\n",
        "TestData = pd.read_csv('TestData.csv')\n",
        "\n",
        "# Extract features and labels\n",
        "TrainX = Traindata.iloc[:, :-1].values\n",
        "Trainy = Traindata.iloc[:, -1].values\n",
        "\n",
        "TestX = TestData.iloc[:, :-1].values\n",
        "Testy = TestData.iloc[:, -1].values\n",
        "\n",
        "# sklearn PCA on the training data\n",
        "pca = PCA(n_components=110)\n",
        "project_train = pca.fit_transform(TrainX)\n",
        "\n",
        "# Apply PCA on the test data\n",
        "projected_test = pca.transform(TestX)\n",
        "\n",
        "# Train a classifier (Logistic Regression)\n",
        "classifier = LogisticRegression()\n",
        "classifier.fit(project_train, Trainy)\n",
        "\n",
        "# Predict using the transformed testing data\n",
        "predicted_labels = classifier.predict(projected_test)\n",
        "\n",
        "# Calculate and print the accuracy\n",
        "accuracy = accuracy_score(Testy, predicted_labels)\n",
        "percentage_accuracy = accuracy * 100\n",
        "print(f\"Sklearn PCA Accuracy percentage: {percentage_accuracy:.2f} %\")\n",
        "\n"
      ],
      "metadata": {
        "colab": {
          "base_uri": "https://localhost:8080/"
        },
        "id": "zPVUSYBDXNko",
        "outputId": "48c56614-3e30-483a-ef4d-90a621dd9d60"
      },
      "execution_count": 22,
      "outputs": [
        {
          "output_type": "stream",
          "name": "stdout",
          "text": [
            "Sklearn PCA Accuracy percentage: 90.50 %\n"
          ]
        }
      ]
    },
    {
      "cell_type": "markdown",
      "source": [
        "#KPCA RBF : Scratch\n",
        "part 2.1 and 3.1"
      ],
      "metadata": {
        "id": "Ef5e5iVJuYAN"
      }
    },
    {
      "cell_type": "code",
      "source": [
        "import numpy as np\n",
        "\n",
        "def rbf_kernel(X, sigma=1.0):\n",
        "\n",
        "    #RBF (Gaussian) kernel matrix.\n",
        "    #X (numpy array): Input data matrix of shape (m, n), where m is the number of samples and n is the number of features.\n",
        "    #sigma (float): Width parameter for the RBF kernel.\"\"\"\n",
        "    m = X.shape[0]\n",
        "    K = np.zeros((m, m))\n",
        "    for i in range(m):\n",
        "        for j in range(m):\n",
        "            K[i, j] = np.exp(-np.linalg.norm(X[i] - X[j]) ** 2 / (2 * sigma ** 2))\n",
        "\n",
        "    # K (numpy array): RBF kernel matrix of shape (m, m).\n",
        "    return K\n",
        "\n",
        "def center_kernel_matrix(K):\n",
        "    \"\"\"\n",
        "    Centers the kernel matrix.\n",
        "\n",
        "    Parameters:\n",
        "    K (numpy array): Input kernel matrix.\n",
        "\n",
        "    Returns:\n",
        "    K_centered (numpy array): Centered kernel matrix.\n",
        "    \"\"\"\n",
        "    n = K.shape[0]\n",
        "    one_n = np.ones((n, n)) / n\n",
        "    K_centered = K - np.dot(one_n, K) - np.dot(K, one_n) + np.dot(np.dot(one_n, K), one_n)\n",
        "    return K_centered\n",
        "\n",
        "def kernel_pca(X, n_components, kernel='rbf', sigma=1.0):\n",
        "    \"\"\"\n",
        "    Computes Kernel PCA.\n",
        "\n",
        "    Parameters:\n",
        "    X (numpy array): Input data matrix of shape (m, n), where m is the number of samples and n is the number of features.\n",
        "    n_components (int): Number of components for the transformed data.\n",
        "    kernel (str): Kernel type ('rbf' for RBF kernel).\n",
        "    sigma (float): Width parameter for the RBF kernel.\n",
        "\n",
        "    Returns:\n",
        "    transformed_data (numpy array): Transformed data matrix of shape (m, n_components).\n",
        "    \"\"\"\n",
        "    if kernel == 'rbf':\n",
        "        K = rbf_kernel(X, sigma)\n",
        "    else:\n",
        "        raise ValueError(\"Unsupported kernel type. Use 'rbf' for RBF kernel.\")\n",
        "\n",
        "    K_centered = center_kernel_matrix(K)\n",
        "\n",
        "    # Compute eigenvectors and eigenvalues\n",
        "    eigvals, eigvecs = np.linalg.eig(K_centered)\n",
        "\n",
        "    # Sort eigenvectors by eigenvalues in descending order\n",
        "    idx = np.argsort(eigvals)[::-1]\n",
        "    eigvecs_sorted = eigvecs[:, idx]\n",
        "\n",
        "    # Select top k eigenvectors\n",
        "    transformed_data = eigvecs_sorted[:, :n_components]\n",
        "\n",
        "    return transformed_data\n",
        "\n",
        "# Example usage\n",
        "# training data TrainX\n",
        "# n_components = 110  # Number of components\n",
        "# sigma = 1.0  # RBF kernel parameter\n",
        "# Compute Kernel PCA using RBF kernel\n",
        "# transformed_train_data = kernel_pca(TrainX, n_components, kernel='rbf', sigma=sigma)\n"
      ],
      "metadata": {
        "id": "O7AqeHihtrrd"
      },
      "execution_count": 23,
      "outputs": []
    },
    {
      "cell_type": "markdown",
      "source": [
        "#Sklearn_KPCA RBF\n",
        "part 2.1 and 3.1 (Comparing to Scratch work of KPCA RBF I made after this code cell)\n"
      ],
      "metadata": {
        "id": "6I1tMq8KPfZJ"
      }
    },
    {
      "cell_type": "code",
      "source": [
        "import pandas as pd\n",
        "from sklearn.decomposition import KernelPCA\n",
        "from sklearn.linear_model import LogisticRegression\n",
        "from sklearn.metrics import accuracy_score\n",
        "from sklearn.preprocessing import StandardScaler\n",
        "\n",
        "# Read the data\n",
        "Traindata = pd.read_csv('TrainData.csv')\n",
        "TestData = pd.read_csv('TestData.csv')\n",
        "\n",
        "# Extract features and labels\n",
        "TrainX = Traindata.iloc[:, :-1].values\n",
        "Trainy = Traindata.iloc[:, -1].values\n",
        "TestX = TestData.iloc[:, :-1].values\n",
        "Testy = TestData.iloc[:, -1].values\n",
        "\n",
        "# sklearn Kernel PCA on the training data with RBF kernel\n",
        "kpca = KernelPCA(kernel='rbf', n_components=110)\n",
        "project_train = kpca.fit_transform(TrainX)\n",
        "\n",
        "# Apply Kernel PCA on the test data\n",
        "projected_test = kpca.transform(TestX)\n",
        "\n",
        "# Scale the data\n",
        "scaler = StandardScaler()\n",
        "project_train_scaled = scaler.fit_transform(project_train)\n",
        "projected_test_scaled = scaler.transform(projected_test)\n",
        "\n",
        "# Train a classifier (Logistic Regression)\n",
        "classifier = LogisticRegression()\n",
        "classifier.fit(project_train_scaled, Trainy)\n",
        "\n",
        "# Predict using the transformed testing data\n",
        "predicted_labels = classifier.predict(projected_test_scaled)\n",
        "\n",
        "# Calculate and print the accuracy\n",
        "accuracy = accuracy_score(Testy, predicted_labels)\n",
        "percentage_accuracy = accuracy * 100\n",
        "print(f\"sklearn KPCA RBF Accuracy percentage: {percentage_accuracy:.2f} %\")"
      ],
      "metadata": {
        "id": "Mokbeee5Pm7e",
        "colab": {
          "base_uri": "https://localhost:8080/"
        },
        "outputId": "d0c27910-d23d-4bd9-c254-22597fd82db1"
      },
      "execution_count": 24,
      "outputs": [
        {
          "output_type": "stream",
          "name": "stdout",
          "text": [
            "sklearn KPCA RBF Accuracy percentage: 2.50 %\n"
          ]
        }
      ]
    },
    {
      "cell_type": "markdown",
      "source": [
        "#KPCA RBF :Scratch\n",
        "part 2.1 and 3.1 - accuracy results"
      ],
      "metadata": {
        "id": "V27Ln0MRvBdr"
      }
    },
    {
      "cell_type": "code",
      "source": [
        "from sklearn.linear_model import LogisticRegression\n",
        "from sklearn.metrics import accuracy_score\n",
        "from sklearn.preprocessing import StandardScaler\n",
        "\n",
        "# Read the data\n",
        "Traindata = pd.read_csv('TrainData.csv')\n",
        "TestData = pd.read_csv('TestData.csv')\n",
        "\n",
        "# Extract features and labels\n",
        "TrainX = Traindata.iloc[:, :-1].values\n",
        "Trainy = Traindata.iloc[:, -1].values\n",
        "TestX = TestData.iloc[:, :-1].values\n",
        "Testy = TestData.iloc[:, -1].values\n",
        "\n",
        "# sklearn Kernel PCA on the training data with RBF kernel\n",
        "kpca = KernelPCA(kernel='rbf', n_components=110)\n",
        "project_train = kpca.fit_transform(TrainX)\n",
        "\n",
        "# Apply Kernel PCA on the test data\n",
        "projected_test = kpca.transform(TestX)\n",
        "\n",
        "# Scale the data\n",
        "scaler = StandardScaler()\n",
        "project_train_scaled = scaler.fit_transform(project_train)\n",
        "projected_test_scaled = scaler.transform(projected_test)\n",
        "\n",
        "# Train a classifier (Logistic Regression)\n",
        "classifier = LogisticRegression()\n",
        "classifier.fit(project_train_scaled, Trainy)\n",
        "\n",
        "# Predict using the transformed testing data\n",
        "predicted_labels = classifier.predict(projected_test_scaled)\n",
        "\n",
        "# Calculate and print the accuracy\n",
        "accuracy = accuracy_score(Testy, predicted_labels)\n",
        "percentage_accuracy = accuracy * 100\n",
        "print(f\"my KPCA RBF Accuracy percentage: {percentage_accuracy:.2f} %\")\n"
      ],
      "metadata": {
        "colab": {
          "base_uri": "https://localhost:8080/"
        },
        "id": "k6F_bESsuJYE",
        "outputId": "17e7f9cb-c577-4a88-a4c3-d21250023c7a"
      },
      "execution_count": 25,
      "outputs": [
        {
          "output_type": "stream",
          "name": "stdout",
          "text": [
            "my KPCA RBF Accuracy percentage: 2.50 %\n"
          ]
        }
      ]
    },
    {
      "cell_type": "markdown",
      "source": [
        "#KPCA polynomial_kernal form scratch\n",
        "part 2.2 and 3.1 - KPCA polynomial function and accuraccy results."
      ],
      "metadata": {
        "id": "OtFIjYnvxVG3"
      }
    },
    {
      "cell_type": "code",
      "source": [
        "import numpy as np\n",
        "import pandas as pd\n",
        "from sklearn.linear_model import LogisticRegression\n",
        "from sklearn.metrics import accuracy_score\n",
        "from sklearn.preprocessing import StandardScaler\n",
        "\n",
        "# Polynomial Kernel Function\n",
        "def polynomial_kernel(X, Y, degree=3):\n",
        "    return (np.dot(X, Y.T) + 1) ** degree\n",
        "\n",
        "# Center the Kernel Matrix\n",
        "def center_kernel_matrix(K):\n",
        "    n = K.shape[0]\n",
        "    one_n = np.ones((n, n)) / n\n",
        "    K_centered = K - np.dot(one_n, K) - np.dot(K, one_n) + np.dot(np.dot(one_n, K), one_n)\n",
        "    return K_centered\n",
        "\n",
        "# Kernel PCA with Polynomial Kernel\n",
        "def kernel_pca_poly(X, n_components, degree=3):\n",
        "    # Calculate the Polynomial kernel matrix\n",
        "    K = polynomial_kernel(X, X, degree)\n",
        "\n",
        "    # Center the kernel matrix\n",
        "    K_centered = center_kernel_matrix(K)\n",
        "\n",
        "    # Compute eigenvectors and eigenvalues\n",
        "    eigvals, eigvecs = np.linalg.eig(K_centered)\n",
        "\n",
        "    # Sort eigenvectors by eigenvalues in descending order\n",
        "    idx = np.argsort(eigvals)[::-1]\n",
        "    eigvecs_sorted = eigvecs[:, idx]\n",
        "\n",
        "    # Select top k eigenvectors\n",
        "    transformed_data = eigvecs_sorted[:, :n_components]\n",
        "\n",
        "    return transformed_data\n",
        "\n",
        "# Read the data\n",
        "Traindata = pd.read_csv('TrainData.csv')\n",
        "TestData = pd.read_csv('TestData.csv')\n",
        "\n",
        "# Extract features and labels\n",
        "TrainX = Traindata.iloc[:, :-1].values\n",
        "Trainy = Traindata.iloc[:, -1].values\n",
        "TestX = TestData.iloc[:, :-1].values\n",
        "Testy = TestData.iloc[:, -1].values\n",
        "\n",
        "# Kernel PCA with Polynomial kernel\n",
        "n_components = 110  # Number of components\n",
        "degree = 3  # Polynomial degree\n",
        "project_train = kernel_pca_poly(TrainX, n_components, degree)\n",
        "\n",
        "# Apply Kernel PCA on the test data\n",
        "projected_test = kernel_pca_poly(TestX, n_components, degree)\n",
        "\n",
        "# Scale the data\n",
        "scaler = StandardScaler()\n",
        "project_train_scaled = scaler.fit_transform(project_train)\n",
        "projected_test_scaled = scaler.transform(projected_test)\n",
        "\n",
        "# Train a classifier (Logistic Regression)\n",
        "classifier = LogisticRegression()\n",
        "classifier.fit(project_train_scaled, Trainy)\n",
        "\n",
        "# Predict using the transformed testing data\n",
        "predicted_labels = classifier.predict(projected_test_scaled)\n",
        "\n",
        "# Calculate and print the accuracy\n",
        "accuracy = accuracy_score(Testy, predicted_labels)\n",
        "percentage_accuracy = accuracy * 100\n",
        "print(f\"my KPCA Polynomial Accuracy percentage: {percentage_accuracy:.2f} %\")\n"
      ],
      "metadata": {
        "colab": {
          "base_uri": "https://localhost:8080/"
        },
        "id": "f-RcWWF7yBXL",
        "outputId": "82d0e5dc-41cf-4641-c766-6c3c84b77a26"
      },
      "execution_count": 26,
      "outputs": [
        {
          "output_type": "stream",
          "name": "stdout",
          "text": [
            "my KPCA Polynomial Accuracy percentage: 3.50 %\n"
          ]
        }
      ]
    },
    {
      "cell_type": "markdown",
      "source": [
        "#Sklearn_KPCA polynomial Kernel\n",
        "part 2.2 and 3.1 (using to compare to my Scratch work of my KPCA Polynomial Kernal)"
      ],
      "metadata": {
        "id": "l_sTrvBpwOJc"
      }
    },
    {
      "cell_type": "code",
      "source": [
        "import pandas as pd\n",
        "from sklearn.decomposition import KernelPCA\n",
        "from sklearn.linear_model import LogisticRegression\n",
        "from sklearn.metrics import accuracy_score\n",
        "from sklearn.preprocessing import StandardScaler\n",
        "\n",
        "# Read the data\n",
        "Traindata = pd.read_csv('TrainData.csv')\n",
        "TestData = pd.read_csv('TestData.csv')\n",
        "\n",
        "# Extract features and labels\n",
        "TrainX = Traindata.iloc[:, :-1].values\n",
        "Trainy = Traindata.iloc[:, -1].values\n",
        "TestX = TestData.iloc[:, :-1].values\n",
        "Testy = TestData.iloc[:, -1].values\n",
        "\n",
        "# sklearn Kernel PCA on the training data with Polynomial kernel\n",
        "kpca = KernelPCA(kernel='poly', degree=3, n_components=110)  # Using Polynomial kernel with degree 3\n",
        "project_train = kpca.fit_transform(TrainX)\n",
        "\n",
        "# Apply Kernel PCA on the test data\n",
        "projected_test = kpca.transform(TestX)\n",
        "\n",
        "# Scale the data\n",
        "scaler = StandardScaler()\n",
        "project_train_scaled = scaler.fit_transform(project_train)\n",
        "projected_test_scaled = scaler.transform(projected_test)\n",
        "\n",
        "# Train a classifier (Logistic Regression)\n",
        "classifier = LogisticRegression()\n",
        "classifier.fit(project_train_scaled, Trainy)\n",
        "\n",
        "# Predict using the transformed testing data\n",
        "predicted_labels = classifier.predict(projected_test_scaled)\n",
        "\n",
        "# Calculate and print the accuracy\n",
        "accuracy = accuracy_score(Testy, predicted_labels)\n",
        "percentage_accuracy = accuracy * 100\n",
        "print(f\"sklearn KPCA Polynomial Accuracy percentage: {percentage_accuracy:.2f} %\")\n"
      ],
      "metadata": {
        "colab": {
          "base_uri": "https://localhost:8080/"
        },
        "id": "zwcOnI4awOc4",
        "outputId": "4b09cab0-8465-4c8e-929b-706b12f2f187"
      },
      "execution_count": 27,
      "outputs": [
        {
          "output_type": "stream",
          "name": "stdout",
          "text": [
            "sklearn KPCA Polynomial Accuracy percentage: 87.00 %\n"
          ]
        }
      ]
    },
    {
      "cell_type": "markdown",
      "source": [
        "#KPCA linear Kernel : scratch\n",
        "part 2.3"
      ],
      "metadata": {
        "id": "Uiv3P2kexP_P"
      }
    },
    {
      "cell_type": "code",
      "source": [
        "from sklearn.linear_model import LogisticRegression\n",
        "from sklearn.metrics import accuracy_score\n",
        "from sklearn.preprocessing import StandardScaler\n",
        "\n",
        "# Linear Kernel Function\n",
        "def linear_kernel(X, Y):\n",
        "    return np.dot(X, Y.T)\n",
        "\n",
        "# Center the Kernel Matrix\n",
        "def center_kernel_matrix(K):\n",
        "    n = K.shape[0]\n",
        "    one_n = np.ones((n, n)) / n\n",
        "    K_centered = K - np.dot(one_n, K) - np.dot(K, one_n) + np.dot(np.dot(one_n, K), one_n)\n",
        "    return K_centered\n",
        "\n",
        "# Kernel PCA with Linear Kernel\n",
        "def kernel_pca_linear(X, n_components):\n",
        "    # Calculate the Linear kernel matrix\n",
        "    K = linear_kernel(X, X)\n",
        "\n",
        "    # Center matrix\n",
        "    K_centered = center_kernel_matrix(K)\n",
        "\n",
        "    eigvals, eigvecs = np.linalg.eig(K_centered)\n",
        "\n",
        "    idx = np.argsort(eigvals)[::-1]\n",
        "    eigvecs_sorted = eigvecs[:, idx]\n",
        "\n",
        "    transformed_data = eigvecs_sorted[:, :n_components]\n",
        "\n",
        "    return transformed_data\n",
        "\n",
        "# Read the data\n",
        "Traindata = pd.read_csv('TrainData.csv')\n",
        "\n",
        "# Extract features and labels\n",
        "TrainX = Traindata.iloc[:, :-1].values\n",
        "\n",
        "# Kernel PCA with Linear kernel\n",
        "n_components = 110  # Number of components\n",
        "project_train = kernel_pca_linear(TrainX, n_components)\n",
        "\n",
        "# Print transformed data for verification\n",
        "print(\"Transformed data (first 5 rows):\")\n",
        "print(project_train[:5])\n",
        "\n"
      ],
      "metadata": {
        "colab": {
          "base_uri": "https://localhost:8080/"
        },
        "id": "kGwFZaVSxYGV",
        "outputId": "61f50576-e682-4739-b174-539863d21c2b"
      },
      "execution_count": 28,
      "outputs": [
        {
          "output_type": "stream",
          "name": "stdout",
          "text": [
            "Transformed data (first 5 rows):\n",
            "[[ 5.50754689e-02 -6.97958885e-02 -1.17073696e-01 -4.59802784e-02\n",
            "  -2.06216876e-02  3.73373512e-02  6.67687532e-02  2.66483643e-02\n",
            "   1.13930946e-01  9.45030937e-02 -3.18857240e-02 -2.21127324e-02\n",
            "   8.91550087e-02  5.78896381e-02 -8.15920971e-02  1.97074325e-02\n",
            "  -1.66449361e-02 -1.41803377e-02 -5.98313433e-03 -1.01776189e-04\n",
            "   1.20531222e-01  5.40112038e-02  7.37194605e-02  3.36698533e-02\n",
            "   7.59870029e-02 -6.23172939e-02 -1.15014118e-01  3.63992653e-02\n",
            "   4.01684074e-02 -1.59510585e-02  4.37717159e-02 -2.95860077e-02\n",
            "   1.10919216e-01 -4.01798298e-02  5.97400664e-02  4.21001899e-02\n",
            "   6.08933910e-02  7.90193925e-03  4.30642705e-02 -1.16818645e-01\n",
            "   8.94703305e-02  5.54122919e-02 -2.71663620e-02 -1.70618795e-02\n",
            "  -2.51822374e-02 -6.80929428e-02 -9.94237568e-02 -7.17446614e-02\n",
            "  -6.27666939e-02 -2.85228594e-02  1.27952045e-01 -3.32198863e-02\n",
            "  -1.03387681e-02  6.03453605e-02  1.62571530e-01  6.32684681e-02\n",
            "  -2.98557830e-02 -4.45079620e-02 -4.51840558e-02  2.17710559e-02\n",
            "  -7.79688446e-02  1.14102178e-01 -7.81338764e-02  4.14574938e-02\n",
            "   8.85698933e-02 -1.70421846e-01  4.41461717e-02 -3.42453209e-02\n",
            "   1.12860846e-03  6.06569486e-02 -9.29929368e-02 -3.95856568e-02\n",
            "   8.61215598e-02  9.27992418e-04 -8.30065633e-02  1.54957369e-01\n",
            "  -2.64552890e-02  1.39029192e-01  2.09918041e-02 -5.99686177e-02\n",
            "   2.35794396e-02 -2.76580111e-02 -4.75676418e-02 -7.86938882e-02\n",
            "  -9.19790494e-02  1.65822261e-01 -6.23532795e-02 -5.46241429e-03\n",
            "   8.57677900e-02  9.15825140e-03 -3.07378453e-02  2.30622047e-03\n",
            "   1.46685062e-01  3.50048399e-02  5.54328727e-02  6.18553567e-02\n",
            "   2.35145516e-02 -8.59980218e-02 -9.60033022e-02  1.10450581e-01\n",
            "   4.17118116e-03 -1.61936938e-01  1.57395331e-03 -3.53288650e-02\n",
            "   6.25904727e-02 -1.92367278e-02  1.82294899e-01 -8.45736714e-02\n",
            "  -5.95076589e-02  1.30449849e-01]\n",
            " [ 1.17382688e-01 -5.61864172e-02  2.05485410e-02 -7.55943489e-03\n",
            "  -2.09388348e-01  2.72360811e-02  1.01869579e-01 -5.79929290e-02\n",
            "   7.20231015e-02 -1.17078050e-02  4.15865602e-02  1.58559217e-02\n",
            "   3.51358185e-02 -1.81627149e-01 -5.54600477e-02 -3.66538516e-02\n",
            "  -8.20581522e-02  2.73338982e-02  2.05212901e-01 -1.10130285e-01\n",
            "   5.64895057e-03  3.53335352e-02  5.02764245e-03  7.21331152e-02\n",
            "   3.22586897e-02  4.52238215e-02 -2.40893199e-03  2.36817832e-02\n",
            "  -1.01204745e-02  1.75073964e-03 -6.25192302e-02  7.24823577e-02\n",
            "  -5.16385490e-02  1.39292436e-01  1.51409906e-01  1.42381549e-01\n",
            "  -3.10039307e-02  8.68643453e-02 -4.03543458e-02 -3.84528706e-02\n",
            "   1.11651870e-01  6.91860738e-02  3.20123259e-02 -6.21568924e-02\n",
            "   2.40372100e-02 -1.23114526e-01 -1.35791577e-01 -3.44976590e-02\n",
            "  -6.70503552e-02 -2.76582389e-02 -1.02676401e-01  6.28422825e-02\n",
            "   5.03951428e-02 -4.33656951e-02  1.21912101e-01  2.33806120e-02\n",
            "   5.46168780e-02 -6.16470381e-03  4.81492421e-02  4.11348510e-02\n",
            "   3.37749946e-02 -1.18203342e-01  1.14922607e-01 -7.36490586e-04\n",
            "  -1.23059417e-01 -1.37932780e-02 -7.93474046e-02  8.95513412e-02\n",
            "  -5.36927122e-02 -6.58532373e-02 -2.12137866e-02  2.79246214e-02\n",
            "  -9.66901708e-02  4.03476834e-02  6.65041179e-02 -8.44331089e-03\n",
            "   6.45835891e-02  7.28455230e-02  1.25338543e-01  5.73949566e-02\n",
            "  -6.83213828e-02  3.55968346e-02 -2.40843240e-02  7.46417540e-02\n",
            "   2.40062158e-02 -2.40833522e-02 -1.09276202e-01 -2.33900753e-02\n",
            "   3.62862269e-02 -1.09591162e-01  8.43893131e-02  1.46912913e-01\n",
            "  -2.39054678e-04  8.94498473e-02  5.82000839e-02  4.19880729e-02\n",
            "   2.35578417e-02 -9.87522425e-02 -8.93545462e-02  1.69209820e-02\n",
            "   7.46676086e-02 -5.85805795e-02 -4.07845544e-03 -8.33783855e-03\n",
            "  -5.27517467e-02 -1.74936651e-02  9.25275000e-02 -1.59735317e-02\n",
            "  -1.39567866e-01  3.21868582e-02]\n",
            " [ 1.03983994e-01 -4.00111617e-02 -5.21305216e-02 -7.19522564e-02\n",
            "  -2.36914724e-02  1.26697554e-01  2.73921499e-02 -1.29579850e-02\n",
            "   1.83996719e-01  4.21164111e-02 -3.35651862e-02 -9.16099239e-02\n",
            "  -2.42654242e-02 -2.30355510e-02 -1.10058985e-01 -6.48144136e-02\n",
            "   2.10225348e-02  7.47330189e-02 -7.03331636e-02 -1.95456956e-02\n",
            "   6.23389231e-02  5.27591873e-02  3.73216646e-02  3.41521290e-02\n",
            "   1.82303555e-02  1.67356189e-02 -1.19666834e-01 -1.17203248e-01\n",
            "   7.62026990e-02 -3.35636575e-02 -7.51722957e-02  1.16804882e-01\n",
            "  -8.66566854e-02 -1.56379813e-01  1.15599293e-01 -2.51657533e-02\n",
            "   3.05649258e-02  5.08491491e-02  1.43532119e-01 -5.09686889e-02\n",
            "   1.50445744e-01 -8.08338377e-02 -7.05841882e-02  3.15080903e-03\n",
            "   1.23330045e-01 -8.74302557e-03 -3.41488943e-02 -8.73485569e-02\n",
            "  -1.61857377e-01  1.17439075e-01 -1.90935282e-02 -1.49620374e-02\n",
            "   6.39268953e-02  7.86714425e-02  1.12488871e-01  2.93856543e-02\n",
            "   6.44962963e-03  6.42231133e-02  8.54932974e-02 -7.96490291e-02\n",
            "   1.07996908e-01 -8.02475604e-02 -1.52505588e-01 -1.80335765e-02\n",
            "   2.09009323e-02  8.56343420e-02  2.71663767e-02 -2.96093712e-02\n",
            "  -4.62662175e-02  1.31153781e-01  4.60740513e-02  4.23143447e-03\n",
            "  -4.91257706e-03  2.40636502e-02  1.00895440e-01  8.44158591e-02\n",
            "   2.06877248e-02 -1.84056808e-02 -1.23632785e-01 -8.29010503e-02\n",
            "  -9.41981238e-02 -1.39501293e-01  4.82160170e-03  3.90628663e-02\n",
            "   9.46012778e-02 -5.08120250e-02 -6.57439404e-02  1.52722991e-02\n",
            "  -3.58407201e-02  1.53265489e-01 -1.42772787e-01 -1.14167304e-02\n",
            "  -2.20963636e-02 -3.11707123e-02 -2.67777507e-02 -3.54999649e-02\n",
            "   2.45057530e-03  1.53538466e-01  2.07893085e-02  5.44745704e-02\n",
            "   1.14170909e-01  1.12138612e-01 -1.32202900e-01  8.00114455e-02\n",
            "   1.55765174e-01 -3.09160460e-02 -1.20988891e-01  4.58332468e-02\n",
            "   1.92018625e-01  8.60077530e-02]\n",
            " [ 1.24931272e-01 -6.96118954e-02 -2.56061395e-02  1.58756281e-01\n",
            "  -6.04804803e-02  1.27795951e-01 -3.93096459e-02  1.00707089e-01\n",
            "   2.08706988e-02  1.96892216e-01 -1.14133583e-01 -4.20901498e-02\n",
            "   1.11201972e-01 -2.72686684e-03  8.75763062e-02  1.13127254e-01\n",
            "   6.16663132e-02  8.45033354e-02 -4.96690870e-02 -1.37505786e-01\n",
            "   3.47864789e-02 -6.14543905e-02 -3.37524826e-03 -1.01939220e-01\n",
            "   1.88880141e-02  6.37960819e-02 -5.75071610e-02 -4.77629000e-02\n",
            "   3.81901936e-02 -2.46286839e-02  2.27778482e-02  7.83241450e-02\n",
            "  -9.09478202e-02 -1.27842063e-01 -1.30094680e-01 -8.15329885e-02\n",
            "  -1.09033581e-01 -4.97758022e-05  9.49396962e-02  2.09993790e-02\n",
            "  -8.45307003e-02 -6.30880629e-02  1.28068094e-03  1.36994304e-02\n",
            "  -2.17887986e-02 -4.02689385e-02 -4.51650383e-02 -5.33113539e-02\n",
            "  -6.53128229e-02  3.77109344e-02  1.26286227e-01 -1.66468069e-02\n",
            "  -2.16825045e-02  9.28687930e-02 -1.58831213e-01 -1.36875160e-01\n",
            "   5.93111140e-02  5.48832376e-02 -4.94409126e-02 -7.37464153e-03\n",
            "   7.71177023e-02  1.38943829e-02 -6.24949801e-02  1.30924109e-02\n",
            "   1.22886547e-02 -3.19459769e-02  7.31734935e-02  8.99658646e-02\n",
            "   4.37514726e-02 -3.45449641e-03  5.72595896e-02 -1.54445384e-02\n",
            "   4.87558718e-02 -1.61846540e-01  4.44717119e-02 -7.87660560e-02\n",
            "   1.28498755e-01  5.54528243e-02 -7.94473328e-03  4.77359476e-02\n",
            "  -8.11223405e-03  2.10784504e-02 -1.40527490e-01  4.55522267e-02\n",
            "   1.12493079e-01 -9.12993711e-03  1.65174350e-02 -1.24427138e-01\n",
            "   1.59940742e-01 -8.76326644e-02 -4.45695294e-02  2.01845986e-01\n",
            "   1.03303736e-01 -5.06282342e-02 -1.09425841e-01  7.78764251e-02\n",
            "  -1.37400715e-01 -8.63886180e-02 -8.35918539e-02 -6.35551570e-03\n",
            "  -3.20250344e-02  4.72598116e-02 -5.70216089e-02  9.95437946e-02\n",
            "  -1.54373652e-02  2.58418401e-02 -3.16872492e-02  1.09683292e-02\n",
            "  -9.71713385e-02 -1.04105429e-01]\n",
            " [ 1.43348888e-01 -6.12244780e-02 -3.62630240e-02  1.14928325e-01\n",
            "  -6.83904648e-02  8.41407728e-02  3.33806637e-02 -3.00717333e-02\n",
            "   3.68229604e-02  3.10568672e-02 -4.58213176e-03 -2.81848819e-02\n",
            "   5.99140193e-02 -1.57184323e-01  1.13115255e-02  4.46096678e-02\n",
            "  -1.84760332e-02  5.02962531e-02  2.29981619e-01 -1.69352734e-01\n",
            "  -6.95668012e-02  6.16896400e-02 -8.96809877e-02  2.44420426e-02\n",
            "   9.87417887e-02  4.28816850e-02 -4.26009748e-02  6.28418027e-02\n",
            "   8.89831874e-02  1.61118346e-02 -7.05081295e-02  9.40913247e-02\n",
            "  -2.02073474e-02  1.18914655e-02  1.21251352e-01  1.00254744e-01\n",
            "  -7.96735010e-02  1.02049442e-01 -1.44965108e-01  3.03886614e-02\n",
            "  -2.65698943e-02  3.37463062e-02  3.45705511e-02  7.56035916e-02\n",
            "  -6.15745141e-02 -1.70451531e-01 -6.78519650e-02  1.77607644e-02\n",
            "  -4.18082219e-02 -7.45582836e-02 -4.50525421e-02  1.02345906e-01\n",
            "   1.58666761e-02 -4.81717588e-02  6.46107129e-02  2.71218979e-02\n",
            "   5.69720634e-02  2.28770515e-02  2.68769512e-02  4.48820090e-02\n",
            "  -2.66542194e-02 -1.61090050e-02  9.75694405e-02  8.00203365e-02\n",
            "   6.78356928e-02  7.36698721e-02 -4.78315689e-02  8.52560473e-02\n",
            "   1.24020809e-02 -4.46938532e-02  1.00528311e-03  1.11247835e-01\n",
            "   3.96932938e-02  4.39236931e-02  3.92425700e-02  9.78905622e-02\n",
            "   4.18652310e-02 -4.49550540e-02  2.63067531e-02  1.27096219e-01\n",
            "  -4.09448250e-02 -6.52308489e-02  4.98663842e-02  9.35849725e-02\n",
            "   3.39788061e-02 -4.07765438e-02 -4.07108278e-02  3.12571851e-02\n",
            "  -4.13805001e-02 -9.73966130e-03  8.25010373e-02 -5.89979768e-02\n",
            "  -9.57320763e-02  3.97967869e-02  1.38501247e-02  5.33338099e-02\n",
            "  -6.17287262e-02 -3.39291532e-02  1.96528405e-02 -1.30507437e-01\n",
            "   6.51425373e-03 -5.15423828e-02  5.09573512e-02 -9.56372171e-02\n",
            "   2.71183830e-02 -5.15166887e-02 -1.57288013e-01  7.93910641e-02\n",
            "   5.67789273e-02  1.59417915e-02]]\n"
          ]
        }
      ]
    },
    {
      "cell_type": "markdown",
      "source": [
        "#Sklearn KPCA linear Kernel\n",
        "part 2.3"
      ],
      "metadata": {
        "id": "vSNIWJx1xzJ8"
      }
    },
    {
      "cell_type": "code",
      "source": [
        "from sklearn.decomposition import KernelPCA\n",
        "from sklearn.preprocessing import StandardScaler\n",
        "\n",
        "# Read the data\n",
        "Traindata = pd.read_csv('TrainData.csv')\n",
        "\n",
        "# Extract features and labels\n",
        "TrainX = Traindata.iloc[:, :-1].values\n",
        "\n",
        "# Linear Kernel PCA\n",
        "n_components = 110  # Number of components\n",
        "\n",
        "# Use 'linear' kernel for Linear Kernel PCA\n",
        "kpca = KernelPCA(kernel='linear', n_components=n_components)\n",
        "\n",
        "# Fit and transform the data\n",
        "project_train = kpca.fit_transform(TrainX)\n",
        "\n",
        "# Print transformed data for verification\n",
        "print(\"Transformed data (first 5 rows):\")\n",
        "print(project_train[:5])\n"
      ],
      "metadata": {
        "colab": {
          "base_uri": "https://localhost:8080/"
        },
        "id": "1Op9_Em-xjtE",
        "outputId": "dd262537-4d67-4308-fcec-1a323f06198c"
      },
      "execution_count": 21,
      "outputs": [
        {
          "output_type": "stream",
          "name": "stdout",
          "text": [
            "Transformed data (first 5 rows):\n",
            "[[ 1.36240472e+03 -1.41001500e+03 -1.78687541e+03  6.25406890e+02\n",
            "   2.67726312e+02 -3.88312936e+02 -6.24476326e+02  2.45615803e+02\n",
            "  -9.42942947e+02  7.23005035e+02  2.35515112e+02  1.46874206e+02\n",
            "   5.68975288e+02  3.57358325e+02 -4.84663930e+02  1.12171321e+02\n",
            "  -9.32622614e+01 -7.61817102e+01 -3.07585312e+01  5.06221788e-01\n",
            "   5.95252190e+02  2.54056084e+02 -3.37091649e+02  1.49962460e+02\n",
            "   3.36100793e+02  2.66438238e+02 -4.80516213e+02 -1.50439222e+02\n",
            "   1.63156214e+02 -6.31287313e+01 -1.69148922e+02 -1.10878470e+02\n",
            "  -4.14572743e+02 -1.46873743e+02 -2.16188565e+02  1.51533642e+02\n",
            "   2.16446538e+02  2.69637402e+01 -1.46545255e+02 -3.90093919e+02\n",
            "   2.97305335e+02  1.82847831e+02  8.58302182e+01 -5.33790287e+01\n",
            "  -7.85159984e+01  2.10999175e+02  3.01660226e+02  2.15819598e+02\n",
            "  -1.85075575e+02  8.36084292e+01  3.67352206e+02 -9.44788903e+01\n",
            "   2.91226958e+01  1.67661365e+02 -4.44856436e+02  1.69596756e+02\n",
            "  -7.97716335e+01  1.16131868e+02  1.16872991e+02 -5.61411984e+01\n",
            "  -1.98965193e+02  2.87289302e+02 -1.95851072e+02 -1.02656567e+02\n",
            "  -2.18228012e+02  4.14484025e+02 -1.07274621e+02 -8.26999072e+01\n",
            "  -2.68926821e+00  1.44087296e+02 -2.18003301e+02 -9.15855092e+01\n",
            "  -1.96853687e+02  2.10919230e+00 -1.87062979e+02  3.47850292e+02\n",
            "   5.85599672e+01  3.06883263e+02  4.59585204e+01  1.31132585e+02\n",
            "   5.09066029e+01 -5.88100564e+01  1.00558173e+02  1.65291549e+02\n",
            "  -1.91235251e+02 -3.42876448e+02  1.27399013e+02  1.10552472e+01\n",
            "  -1.72270224e+02 -1.83679135e+01  6.12426336e+01  4.54918975e+00\n",
            "  -2.87161184e+02  6.79971380e+01 -1.06790050e+02 -1.18937273e+02\n",
            "  -4.47451683e+01  1.62653016e+02 -1.80644674e+02  2.04907266e+02\n",
            "  -7.72748014e+00  2.97645017e+02  2.87179223e+00  6.38867896e+01\n",
            "   1.12157295e+02 -3.44594944e+01 -3.24524254e+02 -1.50111340e+02\n",
            "  -1.04678699e+02  2.27852546e+02]\n",
            " [ 2.90370161e+03 -1.13507676e+03  3.13628798e+02  1.02820662e+02\n",
            "   2.71843756e+03 -2.83258514e+02 -9.52768138e+02 -5.34516102e+02\n",
            "  -5.96095073e+02 -8.95716913e+01 -3.07167664e+02 -1.05316062e+02\n",
            "   2.24232073e+02 -1.12120192e+03 -3.29437356e+02 -2.08627428e+02\n",
            "  -4.59775201e+02  1.46847216e+02  1.05497337e+03  5.47773994e+02\n",
            "   2.78977525e+01  1.66200694e+02 -2.29895372e+01  3.21274326e+02\n",
            "   1.42684549e+02 -1.93354919e+02 -1.00642503e+01 -9.78774986e+01\n",
            "  -4.11073877e+01  6.92881743e+00  2.41595747e+02  2.71639656e+02\n",
            "   1.93004744e+02  5.09170932e+02 -5.47925242e+02  5.12482125e+02\n",
            "  -1.10203971e+02  2.96406688e+02  1.37323536e+02 -1.28406137e+02\n",
            "   3.71013456e+02  2.28298146e+02 -1.01140702e+02 -1.94461258e+02\n",
            "   7.49459038e+01  3.81494212e+02  4.12003317e+02  1.03774563e+02\n",
            "  -1.97706495e+02  8.10739861e+01 -2.94785462e+02  1.78726353e+02\n",
            "  -1.41955250e+02 -1.20485677e+02 -3.33597050e+02  6.26738098e+01\n",
            "   1.45930776e+02  1.60851797e+01 -1.24542736e+02 -1.06074774e+02\n",
            "   8.61888919e+01 -2.97615314e+02  2.88066033e+02  1.82368948e+00\n",
            "   3.03207003e+02  3.35467167e+01  1.92813158e+02  2.16259839e+02\n",
            "   1.27939945e+02 -1.56430798e+02 -4.97314706e+01  6.46064983e+01\n",
            "   2.21011052e+02  9.17044381e+01  1.49873189e+02 -1.89536527e+01\n",
            "  -1.42958667e+02  1.60794086e+02  2.74410620e+02 -1.25504794e+02\n",
            "  -1.47501788e+02  7.56906141e+01  5.09143514e+01 -1.56780296e+02\n",
            "   4.99117433e+01  4.97979839e+01  2.23271018e+02  4.73386037e+01\n",
            "  -7.28832635e+01  2.19797524e+02 -1.68138779e+02  2.89796543e+02\n",
            "   4.67990558e-01  1.73756933e+02 -1.12121014e+02 -8.07358836e+01\n",
            "  -4.48275437e+01  1.86775808e+02 -1.68134038e+02  3.13917060e+01\n",
            "  -1.38328315e+02  1.07672887e+02 -7.44143840e+00  1.50776918e+01\n",
            "  -9.45270579e+01 -3.13370788e+01 -1.64718915e+02 -2.83517105e+01\n",
            "  -2.45510963e+02  5.62197474e+01]\n",
            " [ 2.57225743e+03 -8.08304607e+02 -7.95659059e+02  9.78668212e+02\n",
            "   3.07580576e+02 -1.31766977e+03 -2.56193927e+02 -1.19432692e+02\n",
            "  -1.52283830e+03  3.22215666e+02  2.47919996e+02  6.08479068e+02\n",
            "  -1.54858677e+02 -1.42200680e+02 -6.53759642e+02 -3.68912511e+02\n",
            "   1.17790127e+02  4.01491791e+02 -3.61573832e+02  9.72177975e+01\n",
            "   3.07865298e+02  2.48166891e+02 -1.70658078e+02  1.52110472e+02\n",
            "   8.06353287e+01 -7.15533127e+01 -4.99954745e+02  4.84404433e+02\n",
            "   3.09520457e+02 -1.32833261e+02  2.90491532e+02  4.37745667e+02\n",
            "   3.23888871e+02 -5.71632299e+02 -4.18333068e+02 -9.05805477e+01\n",
            "   1.08643521e+02  1.73512249e+02 -4.88431613e+02 -1.70200361e+02\n",
            "   4.99923518e+02 -2.66733090e+02  2.23005800e+02  9.85747939e+00\n",
            "   3.84532218e+02  2.70919586e+01  1.03610681e+02  2.62758651e+02\n",
            "  -4.77257050e+02 -3.44246571e+02 -5.48178009e+01 -4.25527251e+01\n",
            "  -1.80072084e+02  2.18577888e+02 -3.07811573e+02  7.87708598e+01\n",
            "   1.72327582e+01 -1.67573391e+02 -2.21136797e+02  2.05391597e+02\n",
            "   2.75592459e+02 -2.02049304e+02 -3.82271867e+02  4.46545338e+01\n",
            "  -5.14979609e+01 -2.08271812e+02 -6.60139409e+01 -7.15044330e+01\n",
            "   1.10243962e+02  3.11548702e+02  1.08011378e+02  9.78986109e+00\n",
            "   1.12289990e+01  5.46931902e+01  2.27377220e+02  1.89497805e+02\n",
            "  -4.57932055e+01 -4.06274059e+01 -2.70676109e+02  1.81278632e+02\n",
            "  -2.03368128e+02 -2.96625772e+02 -1.01928841e+01 -8.20490868e+01\n",
            "   1.96687172e+02  1.05065789e+02  1.34326745e+02 -3.09092342e+01\n",
            "   7.19884339e+01 -3.07391349e+02  2.84463059e+02 -2.25203417e+01\n",
            "   4.32574240e+01 -6.05493193e+01  5.15866707e+01  6.82603616e+01\n",
            "  -4.66312969e+00 -2.90396150e+02  3.91182154e+01  1.01060901e+02\n",
            "  -2.11511655e+02 -2.06114179e+02 -2.41213801e+02 -1.44688328e+02\n",
            "   2.79119167e+02 -5.53811087e+01  2.15386332e+02  8.13502591e+01\n",
            "   3.37776014e+02  1.50226969e+02]\n",
            " [ 3.09043133e+03 -1.40629798e+03 -3.90822041e+02 -2.15934474e+03\n",
            "   7.85203242e+02 -1.32909323e+03  3.67656157e+02  9.28209039e+02\n",
            "  -1.72735143e+02  1.50634289e+03  8.43016251e+02  2.79565511e+02\n",
            "   7.09676046e+02 -1.68332123e+01  5.20210637e+02  6.43900899e+02\n",
            "   3.45518889e+02  4.53981332e+02 -2.55342447e+02  6.83936248e+02\n",
            "   1.71795552e+02 -2.89067095e+02  1.54337538e+01 -4.54028002e+02\n",
            "   8.35442416e+01 -2.72760811e+02 -2.40258532e+02  1.97405454e+02\n",
            "   1.55121096e+02 -9.74717486e+01 -8.80214174e+01  2.93532722e+02\n",
            "   3.39927459e+02 -4.67315128e+02  4.70789269e+02 -2.93466390e+02\n",
            "  -3.87561619e+02 -1.69849673e-01 -3.23074369e+02  7.01234811e+01\n",
            "  -2.80891196e+02 -2.08176111e+02 -4.04622174e+00  4.28594218e+01\n",
            "  -6.79355549e+01  1.24781108e+02  1.37034609e+02  1.60369214e+02\n",
            "  -1.92583160e+02 -1.10541231e+02  3.62569618e+02 -4.73442875e+01\n",
            "   6.10762303e+01  2.58023293e+02  4.34621531e+02 -3.66906038e+02\n",
            "   1.58473300e+02 -1.43203432e+02  1.27883769e+02  1.90170479e+01\n",
            "   1.96793201e+02  3.49836230e+01 -1.56650475e+02 -3.24192768e+01\n",
            "  -3.02781068e+01  7.76960077e+01 -1.77810635e+02  2.17260883e+02\n",
            "  -1.04251783e+02 -8.20596910e+00  1.34233631e+02 -3.57325361e+01\n",
            "  -1.11444488e+02 -3.67853735e+02  1.00221122e+02 -1.76815054e+02\n",
            "  -2.84437750e+02  1.22402666e+02 -1.73938449e+01 -1.04383567e+02\n",
            "  -1.75138292e+01  4.48197395e+01  2.97075641e+02 -9.56795790e+01\n",
            "   2.33886328e+02  1.88782880e+01 -3.37481031e+01  2.51825053e+02\n",
            "  -3.21251455e+02  1.75757263e+02  8.88011289e+01  3.98156076e+02\n",
            "  -2.02234792e+02 -9.83456869e+01  2.10806160e+02 -1.49743048e+02\n",
            "   2.61455895e+02  1.63391773e+02 -1.57290665e+02 -1.17907152e+01\n",
            "   5.93291941e+01 -8.68649713e+01 -1.04040070e+02 -1.80009561e+02\n",
            "  -2.76625668e+01  4.62914876e+01  5.64101407e+01  1.94678860e+01\n",
            "  -1.70932103e+02 -1.81837596e+02]\n",
            " [ 3.54602885e+03 -1.23685556e+03 -5.53476211e+02 -1.56321294e+03\n",
            "   8.87896631e+02 -8.75074140e+02 -3.12203437e+02 -2.77168716e+02\n",
            "  -3.04763122e+02  2.37603558e+02  3.38446533e+01  1.87205818e+02\n",
            "   3.82363222e+02 -9.70313998e+02  6.71914143e+01  2.53910568e+02\n",
            "  -1.03521973e+02  2.70208979e+02  1.18230620e+03  8.42338907e+02\n",
            "  -3.43560698e+02  2.90173654e+02  4.10077770e+02  1.08862632e+02\n",
            "   4.36748289e+02 -1.83341090e+02 -1.77982142e+02 -2.59726998e+02\n",
            "   3.61432301e+02  6.37650267e+01  2.72467594e+02  3.52622843e+02\n",
            "   7.55271786e+01  4.34681795e+01 -4.38786853e+02  3.60852683e+02\n",
            "  -2.83200741e+02  3.48222702e+02  4.93307990e+02  1.01477226e+02\n",
            "  -8.82904008e+01  1.11355056e+02 -1.09223235e+02  2.36529996e+02\n",
            "  -1.91983912e+02  5.28177092e+02  2.05868695e+02 -5.34272651e+01\n",
            "  -1.23276856e+02  2.18551053e+02 -1.29346512e+02  2.91076481e+02\n",
            "  -4.46939495e+01 -1.33838671e+02 -1.76799046e+02  7.27026595e+01\n",
            "   1.52223593e+02 -5.96916732e+01 -6.95198699e+01 -1.15737600e+02\n",
            "  -6.80177054e+01 -4.05596535e+01  2.44568430e+02 -1.98145433e+02\n",
            "  -1.67140863e+02 -1.79172951e+02  1.16230088e+02  2.05887024e+02\n",
            "  -2.95518978e+01 -1.06167827e+02  2.35668474e+00  2.57383367e+02\n",
            "  -9.07295600e+01  9.98321901e+01  8.84367661e+01  2.19745991e+02\n",
            "  -9.26705641e+01 -9.92306257e+01  5.75948326e+01 -2.77919624e+02\n",
            "  -8.83974337e+01 -1.38702305e+02 -1.05417724e+02 -1.96569332e+02\n",
            "   7.06459302e+01  8.43150758e+01  8.31795746e+01 -6.32606556e+01\n",
            "   8.31154449e+01  1.95339971e+01 -1.64376545e+02 -1.16377855e+02\n",
            "   1.87411969e+02  7.73055274e+01 -2.66819207e+01 -1.02551796e+02\n",
            "   1.17461829e+02  6.41721632e+01  3.69797797e+01 -2.42116627e+02\n",
            "  -1.20682282e+01  9.47364675e+01  9.29753912e+01  1.72945119e+02\n",
            "   4.85940490e+01 -9.22838367e+01  2.80006601e+02  1.40912636e+02\n",
            "   9.98786431e+01  2.78450132e+01]]\n"
          ]
        }
      ]
    },
    {
      "cell_type": "markdown",
      "source": [
        "#Classification Experiment\n",
        "part 3.2"
      ],
      "metadata": {
        "id": "lp2YyeHa5Pjs"
      }
    },
    {
      "cell_type": "code",
      "source": [
        "#calculate the distance between two points\n",
        "def dis(x1,x2):\n",
        "  return np.linalg.norm(x1-x2)\n",
        "\n",
        "#classification\n",
        "def myclassifier(Train,Trainlabel,Test):\n",
        "  pred=[]\n",
        "  for testpoint in Test:\n",
        "    pred_dis=[]\n",
        "    for trainpoint in Train:\n",
        "      pred_dis.append(dis(testpoint,trainpoint))\n",
        "    pred.append(Trainlabel[np.argmin(pred_dis)])\n",
        "  return np.array(pred)\n",
        "\n",
        "def calculate_accuracy(true_labels,predicted_labels):\n",
        "  if len(true_labels)!=len(predicted_labels):\n",
        "    raise ValueError(\"Length of true_label must be the same.\")\n",
        "  #count the number of correct predictions\n",
        "  correct_predictions=sum(1 for true, predicted in zip(true_labels,predicted_labels)if true == predicted)\n",
        "  #calculate accuracy as the ratio of correct predictions to total predictions\n",
        "  accuracy=correct_predictions / len(true_labels)\n",
        "  return accuracy\n",
        "\n",
        "#read Train data and Test Data\n",
        "Traindata=pd.read_csv('TrainData.csv')\n",
        "Testdata=pd.read_csv('TestData.csv')\n",
        "\n",
        "#we need to saperate data from labels\n",
        "Y_train=Traindata.iloc[:,-1]#save the label train\n",
        "Train=Traindata.iloc[:,:-1].to_numpy()\n",
        "y_test=Testdata.iloc[:,-1]\n",
        "Test=Testdata.iloc[:,:-1].to_numpy()\n",
        "accuracies=[]\n",
        "for k in range(1,110):\n",
        "  pca=PCA(n_components=k)\n",
        "  pca.fit(Train)\n",
        "  reduced_train=pca.transform(Train)\n",
        "  reduce_test=pca.transform(Test)\n",
        "  pred=myclassifier(reduced_train,Y_train,reduce_test)\n",
        "  accuracy=calculate_accuracy(y_test,pred)\n",
        "  accuracies.append(accuracy*100)\n",
        "accuracies=np.array(accuracies)\n",
        "plt.plot(accuracies)\n",
        "plt.ylim([0,100])\n",
        "plt.xlabel('k')\n",
        "plt.ylabel('percentage %')\n",
        "plt.grid()\n",
        "plt.title('Accuracy Computation plot')"
      ],
      "metadata": {
        "colab": {
          "base_uri": "https://localhost:8080/",
          "height": 489
        },
        "id": "1e0oVEQ45xDo",
        "outputId": "23a0bb1c-b9da-4099-9c91-e536540df1a6"
      },
      "execution_count": 5,
      "outputs": [
        {
          "output_type": "execute_result",
          "data": {
            "text/plain": [
              "Text(0.5, 1.0, 'Accuracy Computation plot')"
            ]
          },
          "metadata": {},
          "execution_count": 5
        },
        {
          "output_type": "display_data",
          "data": {
            "text/plain": [
              "<Figure size 640x480 with 1 Axes>"
            ],
            "image/png": "[encoded data removed]"
          },
          "metadata": {}
        }
      ]
    },
    {
      "cell_type": "markdown",
      "source": [
        "#Conclusion\n",
        "Principal Component Analysis (PCA) is a linear technique that reduces high-dimensional data to a lower-dimensional space by identifying orthogonal components capturing maximum variance.\n",
        "\n",
        "Kernel Principal Component Analysis (KPCA) extends PCA for non-linear data by mapping it to a higher-dimensional space using a kernel function, enabling effective dimensionality reduction and non-linear pattern capture.\n",
        "\n",
        "In summary, PCA is for linear dimensionality reduction, while KPCA extends this to non-linear data using kernel-based transformations for enhanced analysis."
      ],
      "metadata": {
        "id": "a_z-I1we7Kf_"
      }
    }
  ]
}